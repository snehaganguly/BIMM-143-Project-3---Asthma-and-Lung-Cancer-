{
 "cells": [
  {
   "cell_type": "markdown",
   "metadata": {},
   "source": [
    "# Project 3 - Determining association between asthma and lung cancer"
   ]
  },
  {
   "cell_type": "markdown",
   "metadata": {},
   "source": [
    "Sneha Ganguly        \n",
    "A15177615"
   ]
  },
  {
   "cell_type": "markdown",
   "metadata": {},
   "source": [
    "### Scientific Question: Does having an asthma diagnosis in patients increase the likelihood of developing lung cancer?\n",
    "\n",
    "Asthma is a chronic lung disease that causes shortness of breath and wheezing via the activation of interleukins and cytokines that cause inflammation of the lung airway and production of excess mucus. Lung cancer is the top cause of cancer deaths in the US, characterized by long-term inflammation due to lesions on the organ. Asthma has a global prevalence of about 10 %, as a result, the chronic inflammatory conditions surrounding asthma may have an important role in lung cancer development (Coussens, et al.) Lung Cancer and Asthma are both associated with the pathogenic inflammation of the airways (Qu et al). As a result, an inflammatory response may mediate the link between asthma and lung cancer. \n",
    "\n",
    "Several studies have performed meta-analyses to understand the link between patients with asthma or other chronic lung diseases, however the association is controversial due to small sample datasets, which are usually limited to a single race or gender, as well as the presence of multiple variants in the samples. In this analysis, I use the occurence ratio data from multiple studies listed in Qu et al.  Since the studies add up to analysis on ~16 million samples across ages 16-75 years,races and genders, analysing the occurence ratios in the studies will help provide a comprehensive analysis between the link between asthma diagnosis and lung cancer occurence."
   ]
  },
  {
   "cell_type": "markdown",
   "metadata": {},
   "source": [
    "### Scientific Hypothesis: If having an asthma diagnosis has a positive risk association with lung cancer development, then it's occurence ratio (OR) across studies should be greater than 1.00.\n",
    "\n",
    "Over 21 papers studying the association between asthma and lung cancer were identified from PubMed. Out of those studies, the ones with a well-defined population or large sample sizes were selected and saved as a csv file that was read in here for t-test and anova. We performed t-test and anova on the ORs. The OR for a disease is the ratio between the number of occurences in the affected group over the number of occurences in the control group. Therefore, having an OR>1 is said to be an indicator of a enhanced risk associated with a disease. The ORs were plotted using a boxplot. The boxplot spread and p-values were analyzed to demonstrate that asthma and lung cancer development are positively associated and that variants such as age, smoking history and history of other lung diseases do not affect asthma's ability to dispose a patient to eventually develop lung cancer.\n",
    "\n",
    "To answer this scientific question and test my hypothesis, I first had to search PubMed for studies that performed meta-analyses on the association between asthma and lung cancer. Then, I selected my subset of studies and manually created an excel file with a table displaying the relevant information. I selected the data with primarily three variants - age, smoking habits, and the history of asthma, which have been found to have an impactful significance on  lung cancer diagnosis. Then, I saved my excel sheet as a csv file and imported the csv file here as a dataframe."
   ]
  },
  {
   "cell_type": "markdown",
   "metadata": {},
   "source": [
    "### Part 1: Load the packages\n",
    "\n",
    "- SciPy: ecosystem for software related to STEM used to perform t-test and anova statistical analysis on data\n",
    "- NumPy: library for programming arrays, matrices and elaborate mathematical functions used to perform numerical \n",
    "- Pandas: software for building dataframes for data analysis used to convert the csv file into a dataframe to use in the analysis\n",
    "- Matplotlib: to visualize the data for the t-test and anova in the form of a boxplot"
   ]
  },
  {
   "cell_type": "code",
   "execution_count": 229,
   "metadata": {},
   "outputs": [],
   "source": [
    "# Importing the packages\n",
    "import numpy as np\n",
    "import pandas as pd\n",
    "import matplotlib.pyplot as plt\n",
    "from scipy import stats\n",
    "from scipy.stats import ttest_1samp"
   ]
  },
  {
   "cell_type": "markdown",
   "metadata": {},
   "source": [
    "### Part 2: Load in the data and perform Bioinformatics Analyses (t-test & ANOVA)"
   ]
  },
  {
   "cell_type": "markdown",
   "metadata": {},
   "source": [
    "A csv file is a comma separated values file that allows data to be saved in a tabular form. Since they are in plain text format, they are easier to organize large amounts of data and use on another database for easy import and export of data. \n",
    "\n",
    "A one sampled t-test helps us understand if the mean of a population is statistically different from the hypothesized value. An anova test helps analyze the means of different subgroups to provide us p-value tp show the relationship between the subgroups.\n",
    "\n",
    "In this code, the data is read from the csv file and converted into a dataframe using pandas. The ORs of the data set and variant subgroups are saved as numpy arrays to be used for statistical analysis using scipy to give us the p-values. To determine if the OR values obtained from the studies indicated a statistically significant positive risk association, we performed a one-sample t-test to determine if OR>1. To determine whether lung cancer development in asthma patients is also enhanced by external variants such as age of population, smoking history and history of other lung diseases, an anova test was conducted between the ORs in those samples to see if these variants had any significant impact on lung cancer diagnosis besides asthma."
   ]
  },
  {
   "cell_type": "code",
   "execution_count": 230,
   "metadata": {},
   "outputs": [
    {
     "name": "stdout",
     "output_type": "stream",
     "text": [
      "LC= lung cancer, OR= Occurence Ratio\n",
      "SR=Self-reported, RD=Registered Database, MQ= Mailed Questionnaire, PD= Physician Diagnosed\n",
      " \n"
     ]
    },
    {
     "data": {
      "text/html": [
       "<div>\n",
       "<style scoped>\n",
       "    .dataframe tbody tr th:only-of-type {\n",
       "        vertical-align: middle;\n",
       "    }\n",
       "\n",
       "    .dataframe tbody tr th {\n",
       "        vertical-align: top;\n",
       "    }\n",
       "\n",
       "    .dataframe thead th {\n",
       "        text-align: right;\n",
       "    }\n",
       "</style>\n",
       "<table border=\"1\" class=\"dataframe\">\n",
       "  <thead>\n",
       "    <tr style=\"text-align: right;\">\n",
       "      <th></th>\n",
       "      <th>First author</th>\n",
       "      <th>Age (y)</th>\n",
       "      <th>AS Diagnosis</th>\n",
       "      <th>LC Diagnosis</th>\n",
       "      <th>Sample size</th>\n",
       "      <th>LC OR (95% CI)</th>\n",
       "      <th>Variants</th>\n",
       "      <th>Gender</th>\n",
       "      <th>Race</th>\n",
       "      <th>Year</th>\n",
       "    </tr>\n",
       "  </thead>\n",
       "  <tbody>\n",
       "    <tr>\n",
       "      <th>0</th>\n",
       "      <td>Alderson</td>\n",
       "      <td>&gt; 25</td>\n",
       "      <td>SR</td>\n",
       "      <td>RD</td>\n",
       "      <td>1892</td>\n",
       "      <td>0.80</td>\n",
       "      <td>Age</td>\n",
       "      <td>Mixed</td>\n",
       "      <td>Mixed</td>\n",
       "      <td>1974</td>\n",
       "    </tr>\n",
       "    <tr>\n",
       "      <th>1</th>\n",
       "      <td>Boffetta</td>\n",
       "      <td>&gt; 20</td>\n",
       "      <td>RD</td>\n",
       "      <td>RD</td>\n",
       "      <td>92986</td>\n",
       "      <td>1.58</td>\n",
       "      <td>Age</td>\n",
       "      <td>Mixed</td>\n",
       "      <td>Caucasian</td>\n",
       "      <td>2002</td>\n",
       "    </tr>\n",
       "    <tr>\n",
       "      <th>2</th>\n",
       "      <td>Brown</td>\n",
       "      <td>&gt; 50</td>\n",
       "      <td>SR</td>\n",
       "      <td>SR</td>\n",
       "      <td>8896</td>\n",
       "      <td>2.10</td>\n",
       "      <td>Age, Smoking</td>\n",
       "      <td>Mixed</td>\n",
       "      <td>Mixed</td>\n",
       "      <td>2006</td>\n",
       "    </tr>\n",
       "    <tr>\n",
       "      <th>3</th>\n",
       "      <td>Colak</td>\n",
       "      <td>&gt; 56</td>\n",
       "      <td>SR</td>\n",
       "      <td>RD</td>\n",
       "      <td>94097</td>\n",
       "      <td>4.00</td>\n",
       "      <td>Age, Smoking</td>\n",
       "      <td>Mixed</td>\n",
       "      <td>Mixed</td>\n",
       "      <td>2015</td>\n",
       "    </tr>\n",
       "    <tr>\n",
       "      <th>4</th>\n",
       "      <td>Eriksson</td>\n",
       "      <td>&gt; 16</td>\n",
       "      <td>PD</td>\n",
       "      <td>RD</td>\n",
       "      <td>6593</td>\n",
       "      <td>0.58</td>\n",
       "      <td>Age, Smoking, Lung Diseases</td>\n",
       "      <td>Mixed</td>\n",
       "      <td>Caucasian</td>\n",
       "      <td>1995</td>\n",
       "    </tr>\n",
       "    <tr>\n",
       "      <th>5</th>\n",
       "      <td>Fan</td>\n",
       "      <td>&gt; 40</td>\n",
       "      <td>PD</td>\n",
       "      <td>RD</td>\n",
       "      <td>9295</td>\n",
       "      <td>1.27</td>\n",
       "      <td>Age, Smoking</td>\n",
       "      <td>Mixed</td>\n",
       "      <td>Asian</td>\n",
       "      <td>2016</td>\n",
       "    </tr>\n",
       "    <tr>\n",
       "      <th>6</th>\n",
       "      <td>Gonzalez-Perez</td>\n",
       "      <td>&gt; 20</td>\n",
       "      <td>SR</td>\n",
       "      <td>MQ</td>\n",
       "      <td>18792</td>\n",
       "      <td>1.35</td>\n",
       "      <td>Age, Smoking</td>\n",
       "      <td>Mixed</td>\n",
       "      <td>Mixed</td>\n",
       "      <td>2006</td>\n",
       "    </tr>\n",
       "    <tr>\n",
       "      <th>7</th>\n",
       "      <td>Huang</td>\n",
       "      <td>&gt; 20</td>\n",
       "      <td>RD</td>\n",
       "      <td>RD</td>\n",
       "      <td>15219024</td>\n",
       "      <td>1.31</td>\n",
       "      <td>Smoking, Lung Diseases</td>\n",
       "      <td>Mixed</td>\n",
       "      <td>Asian</td>\n",
       "      <td>2015</td>\n",
       "    </tr>\n",
       "    <tr>\n",
       "      <th>8</th>\n",
       "      <td>Huovinen</td>\n",
       "      <td>&gt; 18</td>\n",
       "      <td>SR</td>\n",
       "      <td>RD</td>\n",
       "      <td>14654</td>\n",
       "      <td>2.36</td>\n",
       "      <td>Age, Smoking, Lung Diseases</td>\n",
       "      <td>Male</td>\n",
       "      <td>Caucasian</td>\n",
       "      <td>1997</td>\n",
       "    </tr>\n",
       "    <tr>\n",
       "      <th>9</th>\n",
       "      <td>Littman</td>\n",
       "      <td>&gt; 44</td>\n",
       "      <td>SR</td>\n",
       "      <td>RD</td>\n",
       "      <td>17698</td>\n",
       "      <td>1.02</td>\n",
       "      <td>Smoking, Lung Diseases</td>\n",
       "      <td>Mixed</td>\n",
       "      <td>Mixed</td>\n",
       "      <td>2004</td>\n",
       "    </tr>\n",
       "    <tr>\n",
       "      <th>10</th>\n",
       "      <td>Pirie</td>\n",
       "      <td>&gt; 56</td>\n",
       "      <td>MQ</td>\n",
       "      <td>RD</td>\n",
       "      <td>634039</td>\n",
       "      <td>1.32</td>\n",
       "      <td>Age</td>\n",
       "      <td>Female</td>\n",
       "      <td>Mixed</td>\n",
       "      <td>2016</td>\n",
       "    </tr>\n",
       "    <tr>\n",
       "      <th>11</th>\n",
       "      <td>Turner</td>\n",
       "      <td>&gt; 30</td>\n",
       "      <td>SR</td>\n",
       "      <td>RD</td>\n",
       "      <td>26097</td>\n",
       "      <td>1.11</td>\n",
       "      <td>Age, Smoking, Lung Diseases</td>\n",
       "      <td>Mixed</td>\n",
       "      <td>Mixed</td>\n",
       "      <td>2005</td>\n",
       "    </tr>\n",
       "    <tr>\n",
       "      <th>12</th>\n",
       "      <td>Vandentorren</td>\n",
       "      <td>&gt; 25</td>\n",
       "      <td>MQ</td>\n",
       "      <td>RD</td>\n",
       "      <td>14286</td>\n",
       "      <td>1.38</td>\n",
       "      <td>Age, Smoking</td>\n",
       "      <td>Mixed</td>\n",
       "      <td>Mixed</td>\n",
       "      <td>2003</td>\n",
       "    </tr>\n",
       "  </tbody>\n",
       "</table>\n",
       "</div>"
      ],
      "text/plain": [
       "      First author Age (y) AS Diagnosis LC Diagnosis  Sample size  \\\n",
       "0         Alderson    > 25           SR           RD         1892   \n",
       "1        Boffetta     > 20           RD           RD        92986   \n",
       "2            Brown    > 50           SR           SR         8896   \n",
       "3            Colak    > 56           SR           RD        94097   \n",
       "4         Eriksson    > 16           PD           RD         6593   \n",
       "5              Fan    > 40           PD           RD         9295   \n",
       "6   Gonzalez-Perez    > 20           SR           MQ        18792   \n",
       "7           Huang     > 20           RD           RD     15219024   \n",
       "8         Huovinen    > 18           SR           RD        14654   \n",
       "9          Littman    > 44           SR           RD        17698   \n",
       "10           Pirie    > 56           MQ           RD       634039   \n",
       "11          Turner    > 30           SR           RD        26097   \n",
       "12    Vandentorren    > 25           MQ           RD        14286   \n",
       "\n",
       "    LC OR (95% CI)                     Variants  Gender       Race  Year  \n",
       "0             0.80                          Age   Mixed      Mixed  1974  \n",
       "1             1.58                          Age   Mixed  Caucasian  2002  \n",
       "2             2.10                 Age, Smoking   Mixed      Mixed  2006  \n",
       "3             4.00                 Age, Smoking   Mixed      Mixed  2015  \n",
       "4             0.58  Age, Smoking, Lung Diseases   Mixed  Caucasian  1995  \n",
       "5             1.27                 Age, Smoking   Mixed      Asian  2016  \n",
       "6             1.35                 Age, Smoking   Mixed      Mixed  2006  \n",
       "7             1.31       Smoking, Lung Diseases   Mixed      Asian  2015  \n",
       "8             2.36  Age, Smoking, Lung Diseases    Male  Caucasian  1997  \n",
       "9             1.02       Smoking, Lung Diseases   Mixed      Mixed  2004  \n",
       "10            1.32                          Age  Female      Mixed  2016  \n",
       "11            1.11  Age, Smoking, Lung Diseases   Mixed      Mixed  2005  \n",
       "12            1.38                 Age, Smoking   Mixed      Mixed  2003  "
      ]
     },
     "execution_count": 230,
     "metadata": {},
     "output_type": "execute_result"
    }
   ],
   "source": [
    "# Create Data Table\n",
    "aslc_data=pd.read_csv(r\"/Users/snehaganguly/Desktop/aslcdata.csv\")\n",
    "\n",
    "# Display to familiarize with abbreviations used\n",
    "print(\"LC= lung cancer, OR= Occurence Ratio\")\n",
    "print(\"SR=Self-reported, RD=Registered Database, MQ= Mailed Questionnaire, PD= Physician Diagnosed\")\n",
    "print(\" \")\n",
    "\n",
    "# Display data\n",
    "aslc_data[[\"First author\",\"Age (y)\", \"AS Diagnosis\",\"LC Diagnosis\",\"Sample size\",\"LC OR (95% CI)\",\"Variants\",\"Gender\",\"Race\",\"Year\"]]"
   ]
  },
  {
   "cell_type": "markdown",
   "metadata": {},
   "source": [
    "#### T-test to see if the positive association between asthma and lung cancer is statistically significant"
   ]
  },
  {
   "cell_type": "markdown",
   "metadata": {},
   "source": [
    " - Hypothesis: Most studies show that asthma patients aged 16-75 years are likely to develop lung cancer (have OR  > 1.00)\n",
    " - Null hypothesis: p < 1.00"
   ]
  },
  {
   "cell_type": "code",
   "execution_count": 231,
   "metadata": {},
   "outputs": [
    {
     "name": "stdout",
     "output_type": "stream",
     "text": [
      "t-score: 2.274601941490448\n",
      "p-value: 0.02104337450524134\n",
      "we are rejecting null hypothesis\n",
      "Most asthma patients aged 16-75 years are likely to develop lung cancer\n"
     ]
    }
   ],
   "source": [
    "# Since we are trying to see if most patients develop cancer, we set propmean as 1.00\n",
    "tset,pval = ttest_1samp(aslc_or,1.00)\n",
    "print('t-score:',tset)\n",
    "\n",
    "# We need 1-tailed t-test for the greater than analysis, since python default is 2-tailed, we need to divide pval by 2\n",
    "p_val=pval/2\n",
    "print('p-value:',p_val) \n",
    "\n",
    "# Conditional display result depending on p-value\n",
    "# Alpha value is 0.05 for 95% CI\n",
    "if pval < 0.05:    \n",
    "    print('we are rejecting null hypothesis')\n",
    "    print('Most asthma patients aged 16-75 years are likely to develop lung cancer')\n",
    "else:\n",
    "    print('we are accepting null hypothesis')"
   ]
  },
  {
   "cell_type": "markdown",
   "metadata": {},
   "source": [
    "#### Anova test to see variance between the variant subgroups"
   ]
  },
  {
   "cell_type": "code",
   "execution_count": 232,
   "metadata": {},
   "outputs": [
    {
     "name": "stdout",
     "output_type": "stream",
     "text": [
      "F-Statistic=0.461622, p=0.643046\n",
      "we are accepting null hypothesis\n",
      "There isn't a significant difference between the three groups\n"
     ]
    }
   ],
   "source": [
    "# Selecting the sub groups for anova test from data table based on index\n",
    "one_var=aslc_data.iloc[[0,1,10],5]\n",
    "two_var=aslc_data.iloc[[2,3,5,6,7,9,12],5]\n",
    "three_var=aslc_data.iloc[[4,8,11],5]\n",
    "\n",
    "#Performing actual f-test\n",
    "F, p = stats.f_oneway(one_var,two_var,three_var)\n",
    "\n",
    "# Seeing if the overall model is significant (p<0.05)\n",
    "print('F-Statistic=%f, p=%f' % (F, p))\n",
    "\n",
    "# Show results depending on p-value\n",
    "if p < 0.05:    \n",
    "    print('we are rejecting null hypothesis')\n",
    "    print(\"There is a significant difference between the three groups\")\n",
    "else:\n",
    "    print('we are accepting null hypothesis')\n",
    "    print(\"There isn't a significant difference between the three groups\")"
   ]
  },
  {
   "cell_type": "markdown",
   "metadata": {},
   "source": [
    "### Part 3: Creating a boxplot to display the distribution of data"
   ]
  },
  {
   "cell_type": "markdown",
   "metadata": {},
   "source": [
    "Here we use matplotlib to create two boxplots that will be printed out below. The x values will be labeled based on the values in \"LC OR (95% CI)\" and the y values will be labeled based on the subgroup being displayed. The patch colors, x and y ticks are added and the boxplots are saved and displayed. \n",
    "\n",
    "Boxplots are a data visualization technique used for viewing the distribution of data around the median, quartiles, and extremes while displaying the outliers. Boxplots of different datasets can be compared to compare the location of the respective medians and also the spread of the values around the median. They can also help identify outliers and if the data is skewed or weighted. This sort of plot can help us compare the data, especially for the anova, and determine the relationship between the ORs."
   ]
  },
  {
   "cell_type": "markdown",
   "metadata": {},
   "source": [
    "#### Boxplot to Display OR data distribution"
   ]
  },
  {
   "cell_type": "code",
   "execution_count": 233,
   "metadata": {
    "scrolled": true
   },
   "outputs": [
    {
     "data": {
      "image/png": "[encoded data removed]",
      "text/plain": [
       "<Figure size 432x288 with 1 Axes>"
      ]
     },
     "metadata": {
      "needs_background": "light"
     },
     "output_type": "display_data"
    }
   ],
   "source": [
    "# Creating dataset for boxplot\n",
    "aslc_or=aslc_data[\"LC OR (95% CI)\"]\n",
    "bp=plt.boxplot(aslc_or,vert=False, flierprops=red_square,patch_artist = True)\n",
    "\n",
    "## Plot customization\n",
    "# For-loop to assign color to boxplot\n",
    "colors = ['#FFFF00']\n",
    "for patch, color in zip(bp['boxes'], colors): \n",
    "    patch.set_facecolor(color) \n",
    "\n",
    "# Adding title and x axis label\n",
    "plt.title('Fig 1: Lung Cancer Occurence Ratio (95% CI)')\n",
    "plt.xlabel('Occurence Ratios')\n",
    "\n",
    "# Save a PNG file with the boxplot \n",
    "plt.savefig('LCORData.png')\n",
    "\n",
    "# Display plot\n",
    "plt.show()"
   ]
  },
  {
   "cell_type": "markdown",
   "metadata": {},
   "source": [
    "#### Boxplot to display variance in OR per variance group"
   ]
  },
  {
   "cell_type": "code",
   "execution_count": 234,
   "metadata": {},
   "outputs": [
    {
     "data": {
      "image/png": "[encoded data removed]",
      "text/plain": [
       "<Figure size 720x504 with 1 Axes>"
      ]
     },
     "metadata": {
      "needs_background": "light"
     },
     "output_type": "display_data"
    }
   ],
   "source": [
    "# Creating dataset \n",
    "np.random.seed(10) # For reproducibility\n",
    "data_1 = one_var \n",
    "data_2 = two_var\n",
    "data_3 = three_var\n",
    "data = [data_1, data_2, data_3] \n",
    "\n",
    "# Setting the figure  \n",
    "fig = plt.figure(figsize =(10, 7)) \n",
    "aslc = fig.add_subplot(111) \n",
    "\n",
    "# Creating horizontal boxplot with outliers in red\n",
    "bpan = aslc.boxplot(data, patch_artist = True, flierprops=red_square, vert = False) \n",
    "  \n",
    "# Changing color of boxplots\n",
    "colors = ['#0000FF', '#FFFF00', '#FF00FF'] \n",
    "\n",
    "# For-loop to change color of boxplots sequentially\n",
    "for patch, color in zip(bpan['boxes'], colors): \n",
    "    patch.set_facecolor(color) \n",
    "\n",
    "# Changing color and linewidth of medians \n",
    "for median in bpan['medians']: \n",
    "    median.set(color ='red', \n",
    "               linewidth = 3)\n",
    "      \n",
    "# Adding title  \n",
    "plt.title(\"Fig 2: Lung Cancer Occurence Ratios per Variance (95% CI)\") \n",
    "\n",
    "# Adding x-axis label \n",
    "plt.xlabel('Occurence Ratios')\n",
    "\n",
    "# Adding y-axis labels \n",
    "aslc.set_yticklabels(['Age', 'Age+Smoking/Smoking+Lung Disease',  \n",
    "                    'Age+Smoking+Lung Disease']) \n",
    "  \n",
    "# Removing top axes and right axes \n",
    "# ticks \n",
    "aslc.get_xaxis().tick_bottom() \n",
    "aslc.get_yaxis().tick_left() \n",
    "\n",
    "# Save a PNG file with the boxplot \n",
    "plt.savefig('LCORVarianceData.png')\n",
    "      \n",
    "# Display plot \n",
    "plt.show(bpan) "
   ]
  },
  {
   "cell_type": "markdown",
   "metadata": {},
   "source": [
    "### Part 4: Analysis of the Results"
   ]
  },
  {
   "cell_type": "markdown",
   "metadata": {},
   "source": [
    "The boxplots in Fig 1 and 2 show the distribution of all the occurenct ratios from the 12 studies. The x-axis shows the occurence ratios of lung cancer and the y axis in Fig 2 shows the subgroups. The red line passing through the middle of the boxplots represent the median values of the OR for the data subset. The edges of the boxplots represent the quartiles and the edges of the whiskers represent the minimum and maximum OR values. The red squares indicate outliers in our data. Boxplots exclude outliers as standard deviations are very sensitive to outliers and they can misrepresent the data distribution.\n",
    "\n",
    "Fig 1 shows that the lower quartile OR value of the data is above 1.00 which shows that most of the ORs in the study show a positive risk association between asthma and lung cancer. The p-value for the t-test is with propmean = 1.00 is <0.05 which further confirms our finding as statistically significant.\n",
    "\n",
    "Fig 2 shows that the median OR values for the subgroups are within 1.0-1.5. Additionally, the data for one variant and two variants are very compacted, whereas the data for the three variants is widely distributed. The location of the boxplot for three variants is interesting and unexpected as one would expect three variants to heavily impact lung cancer incidence and give a higher median OR value. The wide spread is understandable as different variants can have different combined effects on patients and their likelihood to develop lung cancer. Nevertheless, the data distribution of all three variant subgroups indicate a strong positive association. This finding is further confirmed by the p-value for the anova (>0.05) which indicates that there is no statistically significant difference between the OR values of the three subgroups. This confirms that asthma has a significant impact out of these variants on lung cancer development in patients despite their age, smoking habits or history of lung diseases.\n",
    "\n",
    "Thus, my hypothesis is correct and there is statistically significant positive risk association of lung cancer development in patients diagnosed with asthma."
   ]
  }
 ],
 "metadata": {
  "kernelspec": {
   "display_name": "Python 3",
   "language": "python",
   "name": "python3"
  },
  "language_info": {
   "codemirror_mode": {
    "name": "ipython",
    "version": 3
   },
   "file_extension": ".py",
   "mimetype": "text/x-python",
   "name": "python",
   "nbconvert_exporter": "python",
   "pygments_lexer": "ipython3",
   "version": "3.8.5"
  }
 },
 "nbformat": 4,
 "nbformat_minor": 4
}
